{
 "cells": [
  {
   "cell_type": "markdown",
   "id": "exotic-rings",
   "metadata": {},
   "source": [
    "This repository is created for housing the project work for the course BIO539 during Spring 2021. \n",
    "\n",
    "### Title: Text Data Exaloratory Analysis on Students's Reflective Essays\n",
    "\n",
    " Here is a summary prompt to follow to replicate the process followed in this project. \n",
    "\n",
    "The original data is stored in CSV format where the essays are stored in a column titled 'text'. You may access the file following this path\n",
    "'../FinalProject/Fall2016.csv'.\n",
    "\n",
    "- we need to make sure the structure of the data is set correctly. *df.dtypes* gives the actual data types. \n",
    "Strings are represented by the type object.\n",
    "- The initial cleaning step will be removing the id tags that were embeded at the beginning of each essay.\n",
    "- Then clean the essay body by either reconstructing or replacing text features that might hinder text mining process. \n",
    "We will achieve that by string cleaning function. \n",
    "- The string clean up should be applied to all rows in the data frame. The clean version of the text needs to be saved in a new column. \n",
    "It should be noted that the datatype for the column should be set approperiately as empty string and then iterate clean data in the rows using for loop. \n",
    "- For the linguistics operation the spaCy package was used as oppose to the NLTK of pandas for its complexity and pre-trained language models. \n",
    "This will help us in catagorizing the words in the essay as nouns, verbs, and adjectives.\n",
    "- Use the *discribe* method of pandas to learn about the statistical summaries of both numerical and categorical data in the dataset. \n",
    "- Tokenize the words in the essay using *my_tokenizer* in order to perform count and frequency manipulation. \n",
    "- Count tokens and plot them using bar graph or visualize them using Word Cloud generator. \n"
   ]
  }
 ],
 "metadata": {
  "kernelspec": {
   "display_name": "Python 3",
   "language": "python",
   "name": "python3"
  },
  "language_info": {
   "codemirror_mode": {
    "name": "ipython",
    "version": 3
   },
   "file_extension": ".py",
   "mimetype": "text/x-python",
   "name": "python",
   "nbconvert_exporter": "python",
   "pygments_lexer": "ipython3",
   "version": "3.8.5"
  }
 },
 "nbformat": 4,
 "nbformat_minor": 5
}
